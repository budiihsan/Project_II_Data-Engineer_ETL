{
 "cells": [
  {
   "cell_type": "markdown",
   "metadata": {},
   "source": [
    "# **DE - Business Intelligence - ETL**"
   ]
  },
  {
   "cell_type": "code",
   "execution_count": 1,
   "metadata": {},
   "outputs": [
    {
     "name": "stdout",
     "output_type": "stream",
     "text": [
      "Requirement already satisfied: gspread==4.0.1 in c:\\users\\dell\\anaconda3\\lib\\site-packages (4.0.1)\n",
      "Requirement already satisfied: google-auth>=1.12.0 in c:\\users\\dell\\anaconda3\\lib\\site-packages (from gspread==4.0.1) (2.15.0)\n",
      "Requirement already satisfied: google-auth-oauthlib>=0.4.1 in c:\\users\\dell\\anaconda3\\lib\\site-packages (from gspread==4.0.1) (0.8.0)\n",
      "Requirement already satisfied: six>=1.9.0 in c:\\users\\dell\\anaconda3\\lib\\site-packages (from google-auth>=1.12.0->gspread==4.0.1) (1.16.0)\n",
      "Requirement already satisfied: rsa<5,>=3.1.4 in c:\\users\\dell\\anaconda3\\lib\\site-packages (from google-auth>=1.12.0->gspread==4.0.1) (4.7.2)\n",
      "Requirement already satisfied: pyasn1-modules>=0.2.1 in c:\\users\\dell\\anaconda3\\lib\\site-packages (from google-auth>=1.12.0->gspread==4.0.1) (0.2.8)\n",
      "Requirement already satisfied: cachetools<6.0,>=2.0.0 in c:\\users\\dell\\anaconda3\\lib\\site-packages (from google-auth>=1.12.0->gspread==4.0.1) (4.2.2)\n",
      "Requirement already satisfied: requests-oauthlib>=0.7.0 in c:\\users\\dell\\anaconda3\\lib\\site-packages (from google-auth-oauthlib>=0.4.1->gspread==4.0.1) (1.3.1)\n",
      "Requirement already satisfied: pyasn1<0.5.0,>=0.4.6 in c:\\users\\dell\\anaconda3\\lib\\site-packages (from pyasn1-modules>=0.2.1->google-auth>=1.12.0->gspread==4.0.1) (0.4.8)\n",
      "Requirement already satisfied: requests>=2.0.0 in c:\\users\\dell\\anaconda3\\lib\\site-packages (from requests-oauthlib>=0.7.0->google-auth-oauthlib>=0.4.1->gspread==4.0.1) (2.27.1)\n",
      "Requirement already satisfied: oauthlib>=3.0.0 in c:\\users\\dell\\anaconda3\\lib\\site-packages (from requests-oauthlib>=0.7.0->google-auth-oauthlib>=0.4.1->gspread==4.0.1) (3.2.2)\n",
      "Requirement already satisfied: idna<4,>=2.5 in c:\\users\\dell\\anaconda3\\lib\\site-packages (from requests>=2.0.0->requests-oauthlib>=0.7.0->google-auth-oauthlib>=0.4.1->gspread==4.0.1) (3.3)\n",
      "Requirement already satisfied: charset-normalizer~=2.0.0 in c:\\users\\dell\\anaconda3\\lib\\site-packages (from requests>=2.0.0->requests-oauthlib>=0.7.0->google-auth-oauthlib>=0.4.1->gspread==4.0.1) (2.0.4)\n",
      "Requirement already satisfied: urllib3<1.27,>=1.21.1 in c:\\users\\dell\\anaconda3\\lib\\site-packages (from requests>=2.0.0->requests-oauthlib>=0.7.0->google-auth-oauthlib>=0.4.1->gspread==4.0.1) (1.26.9)\n",
      "Requirement already satisfied: certifi>=2017.4.17 in c:\\users\\dell\\anaconda3\\lib\\site-packages (from requests>=2.0.0->requests-oauthlib>=0.7.0->google-auth-oauthlib>=0.4.1->gspread==4.0.1) (2021.10.8)\n"
     ]
    }
   ],
   "source": [
    "!pip install gspread==4.0.1"
   ]
  },
  {
   "cell_type": "code",
   "execution_count": 2,
   "metadata": {},
   "outputs": [
    {
     "name": "stdout",
     "output_type": "stream",
     "text": [
      "Requirement already satisfied: oauth2client in c:\\users\\dell\\anaconda3\\lib\\site-packages (4.1.3)\n",
      "Requirement already satisfied: pyasn1-modules>=0.0.5 in c:\\users\\dell\\anaconda3\\lib\\site-packages (from oauth2client) (0.2.8)\n",
      "Requirement already satisfied: pyasn1>=0.1.7 in c:\\users\\dell\\anaconda3\\lib\\site-packages (from oauth2client) (0.4.8)\n",
      "Requirement already satisfied: httplib2>=0.9.1 in c:\\users\\dell\\anaconda3\\lib\\site-packages (from oauth2client) (0.21.0)\n",
      "Requirement already satisfied: six>=1.6.1 in c:\\users\\dell\\anaconda3\\lib\\site-packages (from oauth2client) (1.16.0)\n",
      "Requirement already satisfied: rsa>=3.1.4 in c:\\users\\dell\\anaconda3\\lib\\site-packages (from oauth2client) (4.7.2)\n",
      "Requirement already satisfied: pyparsing!=3.0.0,!=3.0.1,!=3.0.2,!=3.0.3,<4,>=2.4.2 in c:\\users\\dell\\anaconda3\\lib\\site-packages (from httplib2>=0.9.1->oauth2client) (3.0.4)\n",
      "Note: you may need to restart the kernel to use updated packages.\n"
     ]
    }
   ],
   "source": [
    "pip install --upgrade oauth2client"
   ]
  },
  {
   "cell_type": "markdown",
   "metadata": {},
   "source": [
    "## **Setup Library & Import Library**"
   ]
  },
  {
   "cell_type": "code",
   "execution_count": 3,
   "metadata": {},
   "outputs": [],
   "source": [
    "#library dataframe\n",
    "import pandas as pd \n",
    "import numpy as np\n",
    "import datetime as dt\n",
    "\n",
    "#library gdrive\n",
    "import json\n",
    "import gspread\n",
    "from oauth2client.service_account import ServiceAccountCredentials\n",
    "\n",
    "#ignore library\n",
    "import warnings\n",
    "warnings.filterwarnings('ignore')"
   ]
  },
  {
   "cell_type": "markdown",
   "metadata": {},
   "source": [
    "## **Setup Google Connection**"
   ]
  },
  {
   "cell_type": "code",
   "execution_count": 4,
   "metadata": {},
   "outputs": [],
   "source": [
    "with open('digitalskola_new.json','rb') as file:\n",
    "    key = json.load(file)\n",
    "    \n",
    "scope = ['https://www.googleapis.com/auth/drive','https://spreadsheets.google.com/feeds']\n",
    "creds = ServiceAccountCredentials.from_json_keyfile_dict(key, scope)\n",
    "client = gspread.authorize(creds)"
   ]
  },
  {
   "cell_type": "markdown",
   "metadata": {},
   "source": [
    "## **Connection Source Data**"
   ]
  },
  {
   "cell_type": "code",
   "execution_count": 5,
   "metadata": {},
   "outputs": [],
   "source": [
    "sheet = client.open('DE - Business Intelligence - Example Data')"
   ]
  },
  {
   "cell_type": "markdown",
   "metadata": {},
   "source": [
    "## **ETL Process**"
   ]
  },
  {
   "cell_type": "markdown",
   "metadata": {},
   "source": [
    "#### **>>> Extract Process**"
   ]
  },
  {
   "cell_type": "code",
   "execution_count": 6,
   "metadata": {},
   "outputs": [],
   "source": [
    "# Memastikan Proses saja tidak dipakai\n",
    "# masterSheet = pd.read_excel('tb_master_sheet.xlsx')\n",
    "# masterSheet.head(1)"
   ]
  },
  {
   "cell_type": "code",
   "execution_count": 7,
   "metadata": {},
   "outputs": [],
   "source": [
    "#Memastikan Proses saja tidak dipakai\n",
    "# masterSheet = pd.read_excel('tb_master_sheet.xlsx')\n",
    "# for index,raw in masterSheet.iterrows():\n",
    "#    print(raw['Use'])"
   ]
  },
  {
   "cell_type": "code",
   "execution_count": 8,
   "metadata": {},
   "outputs": [
    {
     "name": "stdout",
     "output_type": "stream",
     "text": [
      "Raw Data sheet JANUARI : 1940 \n",
      "Raw Data sheet FEBRUARI : 1556 \n",
      "Raw Data sheet MARET : 1799 \n",
      "Raw Data sheet APRIL : 2072 \n",
      "Raw Data sheet MEI : 2167 \n",
      "Raw Data sheet JUNI : 1834 \n",
      "Raw Data sheet JULI : 1854 \n",
      "Raw Data sheet AGUSTUS : 1463 \n",
      "Raw Data sheet SEPTEMBER : 204 \n",
      "Raw Data All : 14889\n"
     ]
    }
   ],
   "source": [
    "masterSheet = pd.read_excel('tb_master_sheet.xlsx')\n",
    "\n",
    "data = pd.DataFrame([])\n",
    "for index,raw in masterSheet.iterrows():\n",
    "    if raw['Status'] != 0:\n",
    "        tab = sheet.worksheet(raw['Use'])\n",
    "        df = pd.DataFrame(tab.get_all_records())\n",
    "        print(f\"Raw Data sheet {raw['Use']} : {df.shape[0]} \")\n",
    "        data = data.append(df)\n",
    "data = data.reset_index()\n",
    "print(f\"Raw Data All : {data.shape[0]}\")"
   ]
  },
  {
   "cell_type": "markdown",
   "metadata": {},
   "source": [
    "#### **>>> Explorasi data analisis**"
   ]
  },
  {
   "cell_type": "code",
   "execution_count": 9,
   "metadata": {},
   "outputs": [],
   "source": [
    "da = data.copy()"
   ]
  },
  {
   "cell_type": "code",
   "execution_count": 10,
   "metadata": {},
   "outputs": [],
   "source": [
    "da['KODE DONATUR'] = da['KODE DONATUR'].replace({'':None})"
   ]
  },
  {
   "cell_type": "code",
   "execution_count": 11,
   "metadata": {},
   "outputs": [
    {
     "name": "stdout",
     "output_type": "stream",
     "text": [
      "<class 'pandas.core.frame.DataFrame'>\n",
      "Int64Index: 55 entries, 0 to 1897\n",
      "Data columns (total 7 columns):\n",
      " #   Column        Non-Null Count  Dtype \n",
      "---  ------        --------------  ----- \n",
      " 0   index         55 non-null     int64 \n",
      " 1   KODE DONATUR  20 non-null     object\n",
      " 2   TANGGAL       55 non-null     object\n",
      " 3   NO REFF       55 non-null     object\n",
      " 4    DEBET        55 non-null     object\n",
      " 5   KETERANGAN    55 non-null     object\n",
      " 6   NAMA BANK     55 non-null     object\n",
      "dtypes: int64(1), object(6)\n",
      "memory usage: 3.4+ KB\n"
     ]
    }
   ],
   "source": [
    "da[da['TANGGAL'] == '1 Jan 2021'].info()"
   ]
  },
  {
   "cell_type": "code",
   "execution_count": 12,
   "metadata": {},
   "outputs": [
    {
     "data": {
      "text/plain": [
       "array([441, 725, 32, None, 265, 1623, 1143, 966, 858, 1082, 1096, 1087,\n",
       "       1101, 1084, 622, 806, 754, 348, 1019], dtype=object)"
      ]
     },
     "execution_count": 12,
     "metadata": {},
     "output_type": "execute_result"
    }
   ],
   "source": [
    "da[da['TANGGAL'] == '1 Jan 2021']['KODE DONATUR'].unique()"
   ]
  },
  {
   "cell_type": "markdown",
   "metadata": {},
   "source": [
    "#### **>>> Transform Process**"
   ]
  },
  {
   "cell_type": "code",
   "execution_count": 13,
   "metadata": {},
   "outputs": [],
   "source": [
    "def debetFunc(x):\n",
    "    return int(x.replace('Rp','').replace('.','').strip())"
   ]
  },
  {
   "cell_type": "code",
   "execution_count": 14,
   "metadata": {},
   "outputs": [],
   "source": [
    "#replace null value from source data\n",
    "data['KODE DONATUR'] = data['KODE DONATUR'].replace({'':None})\n",
    "data[' DEBET'] = data[' DEBET'].replace({'':0})\n",
    "\n",
    "#format value int\n",
    "for index,raw in data.iterrows():\n",
    "    try:\n",
    "        data.loc[index, 'DEBET'] = debetFunc(raw[' DEBET'])\n",
    "    except:\n",
    "        pass\n",
    "#agg\n",
    "result = data.groupby(['TANGGAL']) \\\n",
    "            .agg({'KODE DONATUR':'nunique', \n",
    "                  'NO REFF':'count',\n",
    "                  'DEBET':'sum'}) \\\n",
    "            .reset_index()\n",
    " \n",
    "result = result.rename(columns = {'KODE DONATUR':'Total Donatur',\n",
    "                                  'NO REFF':'Total Transaksi',\n",
    "                                  'DEBET':'Total Amount'})"
   ]
  },
  {
   "cell_type": "markdown",
   "metadata": {},
   "source": [
    "#### **>>> Load Process**"
   ]
  },
  {
   "cell_type": "code",
   "execution_count": 15,
   "metadata": {},
   "outputs": [
    {
     "data": {
      "text/plain": [
       "{'spreadsheetId': '1cQ9pHVY_Jv0-e9yoe5ST3hIJuQMKbmngfnQg4-El2Vc',\n",
       " 'updatedRange': 'Aggregasi!A1:D260',\n",
       " 'updatedRows': 260,\n",
       " 'updatedColumns': 4,\n",
       " 'updatedCells': 1040}"
      ]
     },
     "execution_count": 15,
     "metadata": {},
     "output_type": "execute_result"
    }
   ],
   "source": [
    "export = sheet.worksheet('Aggregasi')\n",
    "export.update([result.columns.values.tolist()] + result.values.tolist())"
   ]
  },
  {
   "cell_type": "code",
   "execution_count": null,
   "metadata": {},
   "outputs": [],
   "source": []
  }
 ],
 "metadata": {
  "kernelspec": {
   "display_name": "Python 3 (ipykernel)",
   "language": "python",
   "name": "python3"
  },
  "language_info": {
   "codemirror_mode": {
    "name": "ipython",
    "version": 3
   },
   "file_extension": ".py",
   "mimetype": "text/x-python",
   "name": "python",
   "nbconvert_exporter": "python",
   "pygments_lexer": "ipython3",
   "version": "3.9.12"
  }
 },
 "nbformat": 4,
 "nbformat_minor": 4
}
